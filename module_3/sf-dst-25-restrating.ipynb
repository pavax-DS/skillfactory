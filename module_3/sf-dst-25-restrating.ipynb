{
 "cells": [
  {
   "cell_type": "markdown",
   "metadata": {},
   "source": [
    "# Проект 3 \"О вкусной и здоровй пище\""
   ]
  },
  {
   "cell_type": "markdown",
   "metadata": {},
   "source": [
    "# import"
   ]
  },
  {
   "cell_type": "code",
   "execution_count": 6,
   "metadata": {
    "_cell_guid": "b1076dfc-b9ad-4769-8c92-a6c4dae69d19",
    "_uuid": "8f2839f25d086af736a60e9eeb907d3b93b6e0e5"
   },
   "outputs": [],
   "source": [
    "# This Python 3 environment comes with many helpful analytics libraries installed\n",
    "# It is defined by the kaggle/python docker image: https://github.com/kaggle/docker-python\n",
    "# For example, here's several helpful packages to load in \n",
    "\n",
    "import numpy as np # linear algebra\n",
    "import pandas as pd # data processing, CSV file I/O (e.g. pd.read_csv)\n",
    "\n",
    "import matplotlib.pyplot as plt\n",
    "import seaborn as sns \n",
    "%matplotlib inline\n",
    "from collections import Counter\n",
    "# для кодирования городов\n",
    "from sklearn.preprocessing import LabelEncoder\n",
    "from sklearn.preprocessing import StandardScaler\n",
    "# Загружаем специальный удобный инструмент для разделения датасета:\n",
    "from sklearn.model_selection import train_test_split\n",
    "\n",
    "# Input data files are available in the \"../input/\" directory.\n",
    "# For example, running this (by clicking run or pressing Shift+Enter) will list all files under the input directory\n",
    "\n",
    "import os\n",
    "for dirname, _, filenames in os.walk('/kaggle/input'):\n",
    "    for filename in filenames:\n",
    "        print(os.path.join(dirname, filename))\n",
    "\n",
    "# Any results you write to the current directory are saved as output."
   ]
  },
  {
   "cell_type": "code",
   "execution_count": 7,
   "metadata": {},
   "outputs": [],
   "source": [
    "# всегда фиксируйте RANDOM_SEED, чтобы ваши эксперименты были воспроизводимы!\n",
    "RANDOM_SEED = 42\n",
    "# зафиксируем версию пакетов, чтобы эксперименты были воспроизводимы:\n",
    "!pip freeze > requirements.txt"
   ]
  },
  {
   "cell_type": "markdown",
   "metadata": {},
   "source": [
    "# DATA"
   ]
  },
  {
   "cell_type": "code",
   "execution_count": 67,
   "metadata": {
    "_cell_guid": "79c7e3d0-c299-4dcb-8224-4455121ee9b0",
    "_uuid": "d629ff2d2480ee46fbb7e2d37f6b5fab8052498a"
   },
   "outputs": [
    {
     "name": "stdout",
     "output_type": "stream",
     "text": [
      "<class 'pandas.core.frame.DataFrame'>\n",
      "RangeIndex: 40000 entries, 0 to 39999\n",
      "Data columns (total 10 columns):\n",
      " #   Column             Non-Null Count  Dtype  \n",
      "---  ------             --------------  -----  \n",
      " 0   Restaurant_id      40000 non-null  object \n",
      " 1   City               40000 non-null  object \n",
      " 2   Cuisine Style      30717 non-null  object \n",
      " 3   Ranking            40000 non-null  float64\n",
      " 4   Rating             40000 non-null  float64\n",
      " 5   Price Range        26114 non-null  object \n",
      " 6   Number of Reviews  37457 non-null  float64\n",
      " 7   Reviews            40000 non-null  object \n",
      " 8   URL_TA             40000 non-null  object \n",
      " 9   ID_TA              40000 non-null  object \n",
      "dtypes: float64(3), object(7)\n",
      "memory usage: 3.1+ MB\n"
     ]
    }
   ],
   "source": [
    "DATA_DIR = ''\n",
    "df_train = pd.read_csv(DATA_DIR+'main_task.csv')\n",
    "df_test = pd.read_csv(DATA_DIR+'kaggle_task.csv')\n",
    "sample_submission = pd.read_csv(DATA_DIR+'sample_submission.csv')\n",
    "df_train.info()"
   ]
  },
  {
   "cell_type": "code",
   "execution_count": 12,
   "metadata": {},
   "outputs": [
    {
     "data": {
      "text/html": [
       "<div>\n",
       "<style scoped>\n",
       "    .dataframe tbody tr th:only-of-type {\n",
       "        vertical-align: middle;\n",
       "    }\n",
       "\n",
       "    .dataframe tbody tr th {\n",
       "        vertical-align: top;\n",
       "    }\n",
       "\n",
       "    .dataframe thead th {\n",
       "        text-align: right;\n",
       "    }\n",
       "</style>\n",
       "<table border=\"1\" class=\"dataframe\">\n",
       "  <thead>\n",
       "    <tr style=\"text-align: right;\">\n",
       "      <th></th>\n",
       "      <th>Restaurant_id</th>\n",
       "      <th>City</th>\n",
       "      <th>Cuisine Style</th>\n",
       "      <th>Ranking</th>\n",
       "      <th>Rating</th>\n",
       "      <th>Price Range</th>\n",
       "      <th>Number of Reviews</th>\n",
       "      <th>Reviews</th>\n",
       "      <th>URL_TA</th>\n",
       "      <th>ID_TA</th>\n",
       "    </tr>\n",
       "  </thead>\n",
       "  <tbody>\n",
       "    <tr>\n",
       "      <th>9165</th>\n",
       "      <td>id_3206</td>\n",
       "      <td>London</td>\n",
       "      <td>['Bar', 'Italian', 'European', 'Vegetarian Fri...</td>\n",
       "      <td>3212.0</td>\n",
       "      <td>3.5</td>\n",
       "      <td>$$ - $$$</td>\n",
       "      <td>319.0</td>\n",
       "      <td>[['Ouch business rates made them unprofitable'...</td>\n",
       "      <td>/Restaurant_Review-g186338-d5774310-Reviews-PO...</td>\n",
       "      <td>d5774310</td>\n",
       "    </tr>\n",
       "    <tr>\n",
       "      <th>29469</th>\n",
       "      <td>id_2597</td>\n",
       "      <td>Berlin</td>\n",
       "      <td>['Italian', 'Pizza', 'European', 'Mediterranea...</td>\n",
       "      <td>2599.0</td>\n",
       "      <td>4.0</td>\n",
       "      <td>$$ - $$$</td>\n",
       "      <td>48.0</td>\n",
       "      <td>[['One of the best Neapolitan Pizza', 'Great s...</td>\n",
       "      <td>/Restaurant_Review-g187323-d8457398-Reviews-Mo...</td>\n",
       "      <td>d8457398</td>\n",
       "    </tr>\n",
       "    <tr>\n",
       "      <th>34006</th>\n",
       "      <td>id_880</td>\n",
       "      <td>Rome</td>\n",
       "      <td>['Italian', 'Pizza', 'Mediterranean', 'Europea...</td>\n",
       "      <td>881.0</td>\n",
       "      <td>4.0</td>\n",
       "      <td>$$ - $$$</td>\n",
       "      <td>770.0</td>\n",
       "      <td>[['Good restaurant!', 'Excellent reataurant'],...</td>\n",
       "      <td>/Restaurant_Review-g187791-d2099605-Reviews-Ri...</td>\n",
       "      <td>d2099605</td>\n",
       "    </tr>\n",
       "    <tr>\n",
       "      <th>24149</th>\n",
       "      <td>id_2320</td>\n",
       "      <td>Berlin</td>\n",
       "      <td>NaN</td>\n",
       "      <td>2322.0</td>\n",
       "      <td>4.5</td>\n",
       "      <td>NaN</td>\n",
       "      <td>15.0</td>\n",
       "      <td>[['Our favourite coffee place around the corn....</td>\n",
       "      <td>/Restaurant_Review-g187323-d7991223-Reviews-Na...</td>\n",
       "      <td>d7991223</td>\n",
       "    </tr>\n",
       "    <tr>\n",
       "      <th>13825</th>\n",
       "      <td>id_15544</td>\n",
       "      <td>London</td>\n",
       "      <td>['British']</td>\n",
       "      <td>15556.0</td>\n",
       "      <td>2.5</td>\n",
       "      <td>$$ - $$$</td>\n",
       "      <td>2.0</td>\n",
       "      <td>[['It was ok', 'Trashy overpriced dead flavour...</td>\n",
       "      <td>/Restaurant_Review-g186338-d11434669-Reviews-R...</td>\n",
       "      <td>d11434669</td>\n",
       "    </tr>\n",
       "  </tbody>\n",
       "</table>\n",
       "</div>"
      ],
      "text/plain": [
       "      Restaurant_id    City  \\\n",
       "9165        id_3206  London   \n",
       "29469       id_2597  Berlin   \n",
       "34006        id_880    Rome   \n",
       "24149       id_2320  Berlin   \n",
       "13825      id_15544  London   \n",
       "\n",
       "                                           Cuisine Style  Ranking  Rating  \\\n",
       "9165   ['Bar', 'Italian', 'European', 'Vegetarian Fri...   3212.0     3.5   \n",
       "29469  ['Italian', 'Pizza', 'European', 'Mediterranea...   2599.0     4.0   \n",
       "34006  ['Italian', 'Pizza', 'Mediterranean', 'Europea...    881.0     4.0   \n",
       "24149                                                NaN   2322.0     4.5   \n",
       "13825                                        ['British']  15556.0     2.5   \n",
       "\n",
       "      Price Range  Number of Reviews  \\\n",
       "9165     $$ - $$$              319.0   \n",
       "29469    $$ - $$$               48.0   \n",
       "34006    $$ - $$$              770.0   \n",
       "24149         NaN               15.0   \n",
       "13825    $$ - $$$                2.0   \n",
       "\n",
       "                                                 Reviews  \\\n",
       "9165   [['Ouch business rates made them unprofitable'...   \n",
       "29469  [['One of the best Neapolitan Pizza', 'Great s...   \n",
       "34006  [['Good restaurant!', 'Excellent reataurant'],...   \n",
       "24149  [['Our favourite coffee place around the corn....   \n",
       "13825  [['It was ok', 'Trashy overpriced dead flavour...   \n",
       "\n",
       "                                                  URL_TA      ID_TA  \n",
       "9165   /Restaurant_Review-g186338-d5774310-Reviews-PO...   d5774310  \n",
       "29469  /Restaurant_Review-g187323-d8457398-Reviews-Mo...   d8457398  \n",
       "34006  /Restaurant_Review-g187791-d2099605-Reviews-Ri...   d2099605  \n",
       "24149  /Restaurant_Review-g187323-d7991223-Reviews-Na...   d7991223  \n",
       "13825  /Restaurant_Review-g186338-d11434669-Reviews-R...  d11434669  "
      ]
     },
     "execution_count": 12,
     "metadata": {},
     "output_type": "execute_result"
    }
   ],
   "source": [
    "df_train.sample(5)"
   ]
  },
  {
   "cell_type": "code",
   "execution_count": 13,
   "metadata": {},
   "outputs": [
    {
     "name": "stdout",
     "output_type": "stream",
     "text": [
      "<class 'pandas.core.frame.DataFrame'>\n",
      "RangeIndex: 10000 entries, 0 to 9999\n",
      "Data columns (total 9 columns):\n",
      " #   Column             Non-Null Count  Dtype  \n",
      "---  ------             --------------  -----  \n",
      " 0   Restaurant_id      10000 non-null  object \n",
      " 1   City               10000 non-null  object \n",
      " 2   Cuisine Style      7693 non-null   object \n",
      " 3   Ranking            10000 non-null  float64\n",
      " 4   Price Range        6525 non-null   object \n",
      " 5   Number of Reviews  9343 non-null   float64\n",
      " 6   Reviews            9998 non-null   object \n",
      " 7   URL_TA             10000 non-null  object \n",
      " 8   ID_TA              10000 non-null  object \n",
      "dtypes: float64(2), object(7)\n",
      "memory usage: 703.2+ KB\n"
     ]
    }
   ],
   "source": [
    "df_test.info()"
   ]
  },
  {
   "cell_type": "code",
   "execution_count": 14,
   "metadata": {},
   "outputs": [
    {
     "data": {
      "text/html": [
       "<div>\n",
       "<style scoped>\n",
       "    .dataframe tbody tr th:only-of-type {\n",
       "        vertical-align: middle;\n",
       "    }\n",
       "\n",
       "    .dataframe tbody tr th {\n",
       "        vertical-align: top;\n",
       "    }\n",
       "\n",
       "    .dataframe thead th {\n",
       "        text-align: right;\n",
       "    }\n",
       "</style>\n",
       "<table border=\"1\" class=\"dataframe\">\n",
       "  <thead>\n",
       "    <tr style=\"text-align: right;\">\n",
       "      <th></th>\n",
       "      <th>Restaurant_id</th>\n",
       "      <th>City</th>\n",
       "      <th>Cuisine Style</th>\n",
       "      <th>Ranking</th>\n",
       "      <th>Price Range</th>\n",
       "      <th>Number of Reviews</th>\n",
       "      <th>Reviews</th>\n",
       "      <th>URL_TA</th>\n",
       "      <th>ID_TA</th>\n",
       "    </tr>\n",
       "  </thead>\n",
       "  <tbody>\n",
       "    <tr>\n",
       "      <th>2661</th>\n",
       "      <td>id_2661</td>\n",
       "      <td>Stockholm</td>\n",
       "      <td>NaN</td>\n",
       "      <td>904.0</td>\n",
       "      <td>NaN</td>\n",
       "      <td>9.0</td>\n",
       "      <td>[[], []]</td>\n",
       "      <td>/Restaurant_Review-g189852-d9779749-Reviews-Ca...</td>\n",
       "      <td>d9779749</td>\n",
       "    </tr>\n",
       "    <tr>\n",
       "      <th>7941</th>\n",
       "      <td>id_7941</td>\n",
       "      <td>London</td>\n",
       "      <td>['Bar', 'British', 'Pub']</td>\n",
       "      <td>15601.0</td>\n",
       "      <td>$$ - $$$</td>\n",
       "      <td>163.0</td>\n",
       "      <td>[['It’s actually not that bad', 'Football'], [...</td>\n",
       "      <td>/Restaurant_Review-g186338-d3512776-Reviews-Sp...</td>\n",
       "      <td>d3512776</td>\n",
       "    </tr>\n",
       "    <tr>\n",
       "      <th>2649</th>\n",
       "      <td>id_2649</td>\n",
       "      <td>London</td>\n",
       "      <td>['British']</td>\n",
       "      <td>6733.0</td>\n",
       "      <td>$$ - $$$</td>\n",
       "      <td>5.0</td>\n",
       "      <td>[['Amazing', 'Friendly welcoming good atmosphe...</td>\n",
       "      <td>/Restaurant_Review-g186338-d13087269-Reviews-T...</td>\n",
       "      <td>d13087269</td>\n",
       "    </tr>\n",
       "    <tr>\n",
       "      <th>4203</th>\n",
       "      <td>id_4203</td>\n",
       "      <td>Berlin</td>\n",
       "      <td>['Italian', 'Mediterranean', 'Vegetarian Frien...</td>\n",
       "      <td>1331.0</td>\n",
       "      <td>$</td>\n",
       "      <td>9.0</td>\n",
       "      <td>[['BEST PASTA IN BERLIN!', 'Delicious &amp; authen...</td>\n",
       "      <td>/Restaurant_Review-g187323-d10509173-Reviews-M...</td>\n",
       "      <td>d10509173</td>\n",
       "    </tr>\n",
       "    <tr>\n",
       "      <th>5096</th>\n",
       "      <td>id_5096</td>\n",
       "      <td>Vienna</td>\n",
       "      <td>['Austrian', 'European']</td>\n",
       "      <td>1664.0</td>\n",
       "      <td>$</td>\n",
       "      <td>8.0</td>\n",
       "      <td>[['Good casual spot with local dishes', 'You c...</td>\n",
       "      <td>/Restaurant_Review-g190454-d5981165-Reviews-Al...</td>\n",
       "      <td>d5981165</td>\n",
       "    </tr>\n",
       "  </tbody>\n",
       "</table>\n",
       "</div>"
      ],
      "text/plain": [
       "     Restaurant_id       City  \\\n",
       "2661       id_2661  Stockholm   \n",
       "7941       id_7941     London   \n",
       "2649       id_2649     London   \n",
       "4203       id_4203     Berlin   \n",
       "5096       id_5096     Vienna   \n",
       "\n",
       "                                          Cuisine Style  Ranking Price Range  \\\n",
       "2661                                                NaN    904.0         NaN   \n",
       "7941                          ['Bar', 'British', 'Pub']  15601.0    $$ - $$$   \n",
       "2649                                        ['British']   6733.0    $$ - $$$   \n",
       "4203  ['Italian', 'Mediterranean', 'Vegetarian Frien...   1331.0           $   \n",
       "5096                           ['Austrian', 'European']   1664.0           $   \n",
       "\n",
       "      Number of Reviews                                            Reviews  \\\n",
       "2661                9.0                                           [[], []]   \n",
       "7941              163.0  [['It’s actually not that bad', 'Football'], [...   \n",
       "2649                5.0  [['Amazing', 'Friendly welcoming good atmosphe...   \n",
       "4203                9.0  [['BEST PASTA IN BERLIN!', 'Delicious & authen...   \n",
       "5096                8.0  [['Good casual spot with local dishes', 'You c...   \n",
       "\n",
       "                                                 URL_TA      ID_TA  \n",
       "2661  /Restaurant_Review-g189852-d9779749-Reviews-Ca...   d9779749  \n",
       "7941  /Restaurant_Review-g186338-d3512776-Reviews-Sp...   d3512776  \n",
       "2649  /Restaurant_Review-g186338-d13087269-Reviews-T...  d13087269  \n",
       "4203  /Restaurant_Review-g187323-d10509173-Reviews-M...  d10509173  \n",
       "5096  /Restaurant_Review-g190454-d5981165-Reviews-Al...   d5981165  "
      ]
     },
     "execution_count": 14,
     "metadata": {},
     "output_type": "execute_result"
    }
   ],
   "source": [
    "df_test.sample(5)"
   ]
  },
  {
   "cell_type": "code",
   "execution_count": 15,
   "metadata": {},
   "outputs": [],
   "source": [
    "# ВАЖНО! дря корректной обработки признаков объединяем трейн и тест в один датасет\n",
    "df_train['sample'] = 1 # помечаем где у нас трейн\n",
    "df_test['sample'] = 0 # помечаем где у нас тест\n",
    "df_test['Rating'] = 0 # в тесте у нас нет значения Rating, мы его должны предсказать, по этому пока просто заполняем нулями\n",
    "\n",
    "df = df_test.append(df_train, sort=False).reset_index(drop=True) # объединяем"
   ]
  },
  {
   "cell_type": "code",
   "execution_count": 16,
   "metadata": {},
   "outputs": [
    {
     "name": "stdout",
     "output_type": "stream",
     "text": [
      "<class 'pandas.core.frame.DataFrame'>\n",
      "RangeIndex: 50000 entries, 0 to 49999\n",
      "Data columns (total 11 columns):\n",
      " #   Column             Non-Null Count  Dtype  \n",
      "---  ------             --------------  -----  \n",
      " 0   Restaurant_id      50000 non-null  object \n",
      " 1   City               50000 non-null  object \n",
      " 2   Cuisine Style      38410 non-null  object \n",
      " 3   Ranking            50000 non-null  float64\n",
      " 4   Price Range        32639 non-null  object \n",
      " 5   Number of Reviews  46800 non-null  float64\n",
      " 6   Reviews            49998 non-null  object \n",
      " 7   URL_TA             50000 non-null  object \n",
      " 8   ID_TA              50000 non-null  object \n",
      " 9   sample             50000 non-null  int64  \n",
      " 10  Rating             50000 non-null  float64\n",
      "dtypes: float64(3), int64(1), object(7)\n",
      "memory usage: 4.2+ MB\n"
     ]
    }
   ],
   "source": [
    "df.info()"
   ]
  },
  {
   "cell_type": "markdown",
   "metadata": {},
   "source": [
    "Подробнее по признакам:\n",
    "* Restaurant_id : идентификатор ресторана\n",
    "* City: Город \n",
    "* Cuisine Style: Кухня\n",
    "* Ranking: Ранг ресторана относительно других ресторанов в этом городе\n",
    "* Price Range: Цены в ресторане в 3 категориях\n",
    "* Number of Reviews: Количество отзывов\n",
    "* Reviews: 2 последних отзыва и даты этих отзывов\n",
    "* URL_TA: страница ресторана на 'www.tripadvisor.com' \n",
    "* ID_TA: ID ресторана в TripAdvisor\n",
    "* Rating: Рейтинг ресторана"
   ]
  },
  {
   "cell_type": "code",
   "execution_count": 17,
   "metadata": {},
   "outputs": [
    {
     "data": {
      "text/html": [
       "<div>\n",
       "<style scoped>\n",
       "    .dataframe tbody tr th:only-of-type {\n",
       "        vertical-align: middle;\n",
       "    }\n",
       "\n",
       "    .dataframe tbody tr th {\n",
       "        vertical-align: top;\n",
       "    }\n",
       "\n",
       "    .dataframe thead th {\n",
       "        text-align: right;\n",
       "    }\n",
       "</style>\n",
       "<table border=\"1\" class=\"dataframe\">\n",
       "  <thead>\n",
       "    <tr style=\"text-align: right;\">\n",
       "      <th></th>\n",
       "      <th>Restaurant_id</th>\n",
       "      <th>City</th>\n",
       "      <th>Cuisine Style</th>\n",
       "      <th>Ranking</th>\n",
       "      <th>Price Range</th>\n",
       "      <th>Number of Reviews</th>\n",
       "      <th>Reviews</th>\n",
       "      <th>URL_TA</th>\n",
       "      <th>ID_TA</th>\n",
       "      <th>sample</th>\n",
       "      <th>Rating</th>\n",
       "    </tr>\n",
       "  </thead>\n",
       "  <tbody>\n",
       "    <tr>\n",
       "      <th>28452</th>\n",
       "      <td>id_1033</td>\n",
       "      <td>Munich</td>\n",
       "      <td>NaN</td>\n",
       "      <td>1043.0</td>\n",
       "      <td>NaN</td>\n",
       "      <td>8.0</td>\n",
       "      <td>[[], []]</td>\n",
       "      <td>/Restaurant_Review-g187309-d10076280-Reviews-S...</td>\n",
       "      <td>d10076280</td>\n",
       "      <td>1</td>\n",
       "      <td>5.0</td>\n",
       "    </tr>\n",
       "    <tr>\n",
       "      <th>49650</th>\n",
       "      <td>id_7704</td>\n",
       "      <td>Madrid</td>\n",
       "      <td>['Spanish']</td>\n",
       "      <td>7711.0</td>\n",
       "      <td>$$ - $$$</td>\n",
       "      <td>51.0</td>\n",
       "      <td>[['Avoid this restaurant', 'Bad food, rude sta...</td>\n",
       "      <td>/Restaurant_Review-g187514-d3747874-Reviews-To...</td>\n",
       "      <td>d3747874</td>\n",
       "      <td>1</td>\n",
       "      <td>3.0</td>\n",
       "    </tr>\n",
       "    <tr>\n",
       "      <th>45774</th>\n",
       "      <td>id_1380</td>\n",
       "      <td>Amsterdam</td>\n",
       "      <td>['Vegetarian Friendly']</td>\n",
       "      <td>1383.0</td>\n",
       "      <td>$$ - $$$</td>\n",
       "      <td>13.0</td>\n",
       "      <td>[['Amazing place to lunch', 'So Good!'], ['10/...</td>\n",
       "      <td>/Restaurant_Review-g188590-d8694076-Reviews-Sa...</td>\n",
       "      <td>d8694076</td>\n",
       "      <td>1</td>\n",
       "      <td>5.0</td>\n",
       "    </tr>\n",
       "    <tr>\n",
       "      <th>40947</th>\n",
       "      <td>id_789</td>\n",
       "      <td>Munich</td>\n",
       "      <td>['Fast Food', 'Mexican', 'American', 'Vegetari...</td>\n",
       "      <td>797.0</td>\n",
       "      <td>$</td>\n",
       "      <td>46.0</td>\n",
       "      <td>[['Good to go !', 'Small burrito shop'], ['10/...</td>\n",
       "      <td>/Restaurant_Review-g187309-d6562513-Reviews-Bu...</td>\n",
       "      <td>d6562513</td>\n",
       "      <td>1</td>\n",
       "      <td>4.5</td>\n",
       "    </tr>\n",
       "    <tr>\n",
       "      <th>20985</th>\n",
       "      <td>id_1889</td>\n",
       "      <td>Rome</td>\n",
       "      <td>['Italian', 'Vegetarian Friendly', 'Vegan Opti...</td>\n",
       "      <td>1890.0</td>\n",
       "      <td>$$ - $$$</td>\n",
       "      <td>146.0</td>\n",
       "      <td>[['Worthy of repeat dining.', 'Friendly and qu...</td>\n",
       "      <td>/Restaurant_Review-g187791-d795376-Reviews-Ris...</td>\n",
       "      <td>d795376</td>\n",
       "      <td>1</td>\n",
       "      <td>4.5</td>\n",
       "    </tr>\n",
       "  </tbody>\n",
       "</table>\n",
       "</div>"
      ],
      "text/plain": [
       "      Restaurant_id       City  \\\n",
       "28452       id_1033     Munich   \n",
       "49650       id_7704     Madrid   \n",
       "45774       id_1380  Amsterdam   \n",
       "40947        id_789     Munich   \n",
       "20985       id_1889       Rome   \n",
       "\n",
       "                                           Cuisine Style  Ranking Price Range  \\\n",
       "28452                                                NaN   1043.0         NaN   \n",
       "49650                                        ['Spanish']   7711.0    $$ - $$$   \n",
       "45774                            ['Vegetarian Friendly']   1383.0    $$ - $$$   \n",
       "40947  ['Fast Food', 'Mexican', 'American', 'Vegetari...    797.0           $   \n",
       "20985  ['Italian', 'Vegetarian Friendly', 'Vegan Opti...   1890.0    $$ - $$$   \n",
       "\n",
       "       Number of Reviews                                            Reviews  \\\n",
       "28452                8.0                                           [[], []]   \n",
       "49650               51.0  [['Avoid this restaurant', 'Bad food, rude sta...   \n",
       "45774               13.0  [['Amazing place to lunch', 'So Good!'], ['10/...   \n",
       "40947               46.0  [['Good to go !', 'Small burrito shop'], ['10/...   \n",
       "20985              146.0  [['Worthy of repeat dining.', 'Friendly and qu...   \n",
       "\n",
       "                                                  URL_TA      ID_TA  sample  \\\n",
       "28452  /Restaurant_Review-g187309-d10076280-Reviews-S...  d10076280       1   \n",
       "49650  /Restaurant_Review-g187514-d3747874-Reviews-To...   d3747874       1   \n",
       "45774  /Restaurant_Review-g188590-d8694076-Reviews-Sa...   d8694076       1   \n",
       "40947  /Restaurant_Review-g187309-d6562513-Reviews-Bu...   d6562513       1   \n",
       "20985  /Restaurant_Review-g187791-d795376-Reviews-Ris...    d795376       1   \n",
       "\n",
       "       Rating  \n",
       "28452     5.0  \n",
       "49650     3.0  \n",
       "45774     5.0  \n",
       "40947     4.5  \n",
       "20985     4.5  "
      ]
     },
     "execution_count": 17,
     "metadata": {},
     "output_type": "execute_result"
    }
   ],
   "source": [
    "df.sample(5)"
   ]
  },
  {
   "cell_type": "markdown",
   "metadata": {},
   "source": [
    "# Очистка и обработка данных"
   ]
  },
  {
   "cell_type": "code",
   "execution_count": 18,
   "metadata": {},
   "outputs": [
    {
     "data": {
      "text/plain": [
       "Index(['Restaurant_id', 'City', 'Cuisine_Style', 'Ranking', 'Price_Range',\n",
       "       'Number_of_Reviews', 'Reviews', 'URL_TA', 'ID_TA', 'sample', 'Rating'],\n",
       "      dtype='object')"
      ]
     },
     "execution_count": 18,
     "metadata": {},
     "output_type": "execute_result"
    }
   ],
   "source": [
    "#Убираю пробелы из названия переменных для дальнейшего удобства\n",
    "df.columns = map(lambda name: name.strip().replace(\" \", \"_\"), df.columns)\n",
    "df.columns"
   ]
  },
  {
   "cell_type": "markdown",
   "metadata": {},
   "source": [
    "### Обработка признаков"
   ]
  },
  {
   "cell_type": "markdown",
   "metadata": {},
   "source": [
    "### 1. Restaurant_id"
   ]
  },
  {
   "cell_type": "code",
   "execution_count": 19,
   "metadata": {},
   "outputs": [
    {
     "data": {
      "text/plain": [
       "dtype('int64')"
      ]
     },
     "execution_count": 19,
     "metadata": {},
     "output_type": "execute_result"
    }
   ],
   "source": [
    "# Значения Restaurant_id превращаю в числовые:\n",
    "if (df['Restaurant_id'].dtype != 'int64'): #условие что бы не вываливалась ошибка при перезапуске ячейки\n",
    "    df['Restaurant_id'] = df['Restaurant_id'].apply(lambda x: int(x[3:]))\n",
    "df.Restaurant_id.dtype"
   ]
  },
  {
   "cell_type": "markdown",
   "metadata": {},
   "source": [
    "### 2. City"
   ]
  },
  {
   "cell_type": "code",
   "execution_count": 20,
   "metadata": {},
   "outputs": [],
   "source": [
    "#Сколько городов представлено в наборе данных?\n",
    "city_names = df.City.unique()\n",
    "\n",
    "dict_names = {}\n",
    "for num in range(len(city_names)):\n",
    "    dict_names[city_names[num]] = num\n",
    "#создаю колонки с данными о городах в которых расположены рестораны\n",
    "#сначала меняю имена городов на цифр\n",
    "def change_city(city):\n",
    "    global dict_names\n",
    "    return int(dict_names[city])\n",
    "    \n",
    "# эксперементально выяснил, что модель с думми переменными на несколько десятых точнее, чем модель с признаком с номерами городов\n",
    "#df['City_num'] = df['City'].apply(lambda x: change_city(x))\n",
    "\n",
    "#теперь разношу города по колонкам - ввожу думми переменные для городов:\n",
    "df_dummies = pd.get_dummies(df.City).astype('int')\n",
    "\n",
    "#объединяю исходный датафрейм с думми признаками\n",
    "df = pd.merge(df,df_dummies, right_index=True, left_index=True)\n"
   ]
  },
  {
   "cell_type": "code",
   "execution_count": 21,
   "metadata": {},
   "outputs": [],
   "source": [
    "#создаю признак по столицам\n",
    "list_Of_Capital = [  'Paris', 'Helsinki', 'London', 'Bratislava', 'Lisbon', 'Budapest',\n",
    "                     'Stockholm', 'Rome', 'Prague', 'Vienna', 'Dublin','Brussels', 'Madrid', \n",
    "                     'Oslo' ,'Amsterdam', 'Berlin', 'Athens', 'Warsaw', 'Copenhagen', \n",
    "                     'Luxembourg', 'Ljubljana']\n",
    "df['Capital_City'] = df['City'].apply(lambda x: 1 if x in list_Of_Capital else 0)"
   ]
  },
  {
   "cell_type": "code",
   "execution_count": 22,
   "metadata": {},
   "outputs": [],
   "source": [
    "#признак по населению городов\n",
    "#todo постараться найти данные за 2018 год\n",
    "сity_population = {'London' : 8908, 'Paris' : 2206, 'Madrid' : 3223, 'Barcelona' : 1620, \n",
    "                        'Berlin' : 6010, 'Milan' : 1366, 'Rome' : 2872, 'Prague' : 1308, \n",
    "                        'Lisbon' : 506, 'Vienna' : 1888, 'Amsterdam' : 860, 'Brussels' : 179, \n",
    "                        'Hamburg' : 1841, 'Munich' : 1457, 'Lyon' : 506, 'Stockholm' : 961, \n",
    "                        'Budapest' : 1752, 'Warsaw' : 1764, 'Dublin' : 553, \n",
    "                        'Copenhagen' : 616, 'Athens' : 665, 'Edinburgh' : 513, \n",
    "                        'Zurich' : 415, 'Oporto' : 240, 'Geneva' : 201, 'Krakow' : 769, \n",
    "                        'Oslo' : 681, 'Helsinki' : 643, 'Bratislava' : 426, \n",
    "                        'Luxembourg' : 119, 'Ljubljana' : 284}\n",
    "df['city_population'] = df['City'].apply(lambda x: сity_population[x])"
   ]
  },
  {
   "cell_type": "code",
   "execution_count": 23,
   "metadata": {},
   "outputs": [
    {
     "name": "stdout",
     "output_type": "stream",
     "text": [
      "['Paris' 'Helsinki' 'Edinburgh' 'London' 'Bratislava' 'Lisbon' 'Budapest'\n",
      " 'Stockholm' 'Rome' 'Milan' 'Munich' 'Hamburg' 'Prague' 'Vienna' 'Dublin'\n",
      " 'Barcelona' 'Brussels' 'Madrid' 'Oslo' 'Amsterdam' 'Berlin' 'Lyon'\n",
      " 'Athens' 'Warsaw' 'Oporto' 'Krakow' 'Copenhagen' 'Luxembourg' 'Zurich'\n",
      " 'Geneva' 'Ljubljana']\n",
      "31\n"
     ]
    }
   ],
   "source": [
    "print(city_names)\n",
    "print(len(city_names))"
   ]
  },
  {
   "cell_type": "markdown",
   "metadata": {},
   "source": [
    "### 3. Cuisine_Style"
   ]
  },
  {
   "cell_type": "code",
   "execution_count": 24,
   "metadata": {},
   "outputs": [
    {
     "data": {
      "text/plain": [
       "11590"
      ]
     },
     "execution_count": 24,
     "metadata": {},
     "output_type": "execute_result"
    }
   ],
   "source": [
    "df['Cuisine_Style'].isna().sum()"
   ]
  },
  {
   "cell_type": "code",
   "execution_count": 25,
   "metadata": {},
   "outputs": [],
   "source": [
    "# в переменной 11590 пропущенных значений \n",
    "\n",
    "df['Cuisine_Style_NaN'] = pd.isna(df['Cuisine_Style']) \n",
    "\n",
    "# заполним пропуски значением 'nodata'\n",
    "df['Cuisine_Style'] = df['Cuisine_Style'].fillna(\"['nodata']\")\n",
    "\n",
    "# кодирую значения в переменной\n",
    "le = LabelEncoder()\n",
    "le.fit(df['Cuisine_Style'])\n",
    "df['code_Cuisine_Style'] = le.transform(df['Cuisine_Style'])"
   ]
  },
  {
   "cell_type": "code",
   "execution_count": 26,
   "metadata": {},
   "outputs": [],
   "source": [
    "# проведем обработку значений переменной\n",
    "df['Cuisine_Style'] = df['Cuisine_Style'].str.findall(r\"'(\\b.*?\\b)'\") \n",
    "\n",
    "temp_list = df['Cuisine_Style'].tolist()\n",
    "\n",
    "def list_unrar(lst):\n",
    "    result=[]\n",
    "    for elem in lst:\n",
    "      result.extend(elem)\n",
    "    return result\n",
    "\n",
    "temp_counter = Counter(list_unrar(temp_list))"
   ]
  },
  {
   "cell_type": "code",
   "execution_count": 27,
   "metadata": {},
   "outputs": [],
   "source": [
    "# сформируем список достаточно уникальных кухонь и сформируем на его основе новый признак\n",
    "list_of_unique_Cuisine = [x[0] for x in temp_counter.most_common()[-16:]]\n",
    "df['unique_Cuisine_Style'] = df['Cuisine_Style'].apply(lambda x: 1 if len(set(x) & set(list_of_unique_Cuisine))>0  else 0).astype('float64')"
   ]
  },
  {
   "cell_type": "code",
   "execution_count": 28,
   "metadata": {},
   "outputs": [],
   "source": [
    "for cuisine in temp_counter:\n",
    "    df[cuisine] = df['Cuisine_Style'].apply(lambda x: 1 if cuisine in x else 0 ).astype('float64')\n",
    "\n",
    "# генерируем новый признак кол-во кухонь в ресторане\n",
    "df['count_Cuisine_Style'] = df['Cuisine_Style'].apply(lambda x: len(x)).astype('float64')"
   ]
  },
  {
   "cell_type": "markdown",
   "metadata": {},
   "source": [
    "### 4. Ranking"
   ]
  },
  {
   "cell_type": "code",
   "execution_count": 29,
   "metadata": {},
   "outputs": [
    {
     "data": {
      "text/plain": [
       "<matplotlib.axes._subplots.AxesSubplot at 0x1c579c6c588>"
      ]
     },
     "execution_count": 29,
     "metadata": {},
     "output_type": "execute_result"
    },
    {
     "data": {
      "image/png": "[encoded data removed]",
      "text/plain": [
       "<Figure size 720x504 with 1 Axes>"
      ]
     },
     "metadata": {
      "needs_background": "light"
     },
     "output_type": "display_data"
    }
   ],
   "source": [
    "plt.rcParams['figure.figsize'] = (10,7)\n",
    "df_train['Ranking'].hist(bins=100)"
   ]
  },
  {
   "cell_type": "markdown",
   "metadata": {},
   "source": [
    "У нас много ресторанов, которые не дотягивают и до 2500 места в своем городе, а что там по городам?"
   ]
  },
  {
   "cell_type": "code",
   "execution_count": 30,
   "metadata": {},
   "outputs": [
    {
     "data": {
      "text/plain": [
       "<matplotlib.axes._subplots.AxesSubplot at 0x1c57bb28048>"
      ]
     },
     "execution_count": 30,
     "metadata": {},
     "output_type": "execute_result"
    },
    {
     "data": {
      "image/png": "[encoded data removed]",
      "text/plain": [
       "<Figure size 720x504 with 1 Axes>"
      ]
     },
     "metadata": {
      "needs_background": "light"
     },
     "output_type": "display_data"
    }
   ],
   "source": [
    "df_train['City'].value_counts(ascending=True).plot(kind='barh')"
   ]
  },
  {
   "cell_type": "markdown",
   "metadata": {},
   "source": [
    "Посмотрим, как изменится распределение в большом городе:"
   ]
  },
  {
   "cell_type": "code",
   "execution_count": 31,
   "metadata": {},
   "outputs": [
    {
     "data": {
      "text/plain": [
       "<matplotlib.axes._subplots.AxesSubplot at 0x1c57ba4ea48>"
      ]
     },
     "execution_count": 31,
     "metadata": {},
     "output_type": "execute_result"
    },
    {
     "data": {
      "image/png": "[encoded data removed]",
      "text/plain": [
       "<Figure size 720x504 with 1 Axes>"
      ]
     },
     "metadata": {
      "needs_background": "light"
     },
     "output_type": "display_data"
    }
   ],
   "source": [
    "df_train['Ranking'][df_train['City'] =='London'].hist(bins=100)"
   ]
  },
  {
   "cell_type": "code",
   "execution_count": 32,
   "metadata": {},
   "outputs": [
    {
     "data": {
      "image/png": "[encoded data removed]",
      "text/plain": [
       "<Figure size 720x504 with 1 Axes>"
      ]
     },
     "metadata": {
      "needs_background": "light"
     },
     "output_type": "display_data"
    }
   ],
   "source": [
    "# посмотрим на топ 10 городов\n",
    "for x in (df_train['City'].value_counts())[0:10].index:\n",
    "    df_train['Ranking'][df_train['City'] == x].hist(bins=100)\n",
    "plt.show()"
   ]
  },
  {
   "cell_type": "code",
   "execution_count": 33,
   "metadata": {},
   "outputs": [],
   "source": [
    "# нормирую Ranking по городам City\n",
    "Ranking_City_mean = df.groupby(['City'])['Ranking'].mean()\n",
    "Restorant_City_number = df['City'].value_counts(ascending=False)\n",
    "df['Ranking_City_mean'] = df['City'].apply(lambda x: Ranking_City_mean[x])\n",
    "df['Restorant_City_number'] = df['City'].apply(lambda x: Restorant_City_number[x])\n",
    "df['Ranking_City_norm'] = (df['Ranking'] - df['Ranking_City_mean']) / df['Restorant_City_number']"
   ]
  },
  {
   "cell_type": "code",
   "execution_count": 34,
   "metadata": {},
   "outputs": [
    {
     "data": {
      "image/png": "[encoded data removed]",
      "text/plain": [
       "<Figure size 720x504 with 1 Axes>"
      ]
     },
     "metadata": {
      "needs_background": "light"
     },
     "output_type": "display_data"
    }
   ],
   "source": [
    "#после нормирования\n",
    "for x in (df['City'].value_counts())[0:10].index:\n",
    "    df['Ranking_City_norm'][df['City'] == x].hist(bins=100)\n",
    "plt.show()"
   ]
  },
  {
   "cell_type": "code",
   "execution_count": 35,
   "metadata": {},
   "outputs": [
    {
     "data": {
      "image/png": "[encoded data removed]",
      "text/plain": [
       "<Figure size 720x504 with 1 Axes>"
      ]
     },
     "metadata": {
      "needs_background": "light"
     },
     "output_type": "display_data"
    }
   ],
   "source": [
    "# критерий Ranking по населению в городах Population_Сity\n",
    "df['Ranking_CityPopulation_norm'] = (df['Ranking'] - df['Ranking_City_mean']) / df['city_population']\n",
    "\n",
    "for x in (df['City'].value_counts())[0:10].index:\n",
    "    df['Ranking_CityPopulation_norm'][df['City'] == x].hist(bins=100)\n",
    "plt.show()"
   ]
  },
  {
   "cell_type": "code",
   "execution_count": 36,
   "metadata": {},
   "outputs": [],
   "source": [
    "df['norm_Population_on_Rest'] = df['city_population']/df['Restorant_City_number']"
   ]
  },
  {
   "cell_type": "markdown",
   "metadata": {},
   "source": [
    "### 5. Price_Range"
   ]
  },
  {
   "cell_type": "code",
   "execution_count": 37,
   "metadata": {},
   "outputs": [
    {
     "data": {
      "text/plain": [
       "$$ - $$$    23041\n",
       "$            7816\n",
       "$$$$         1782\n",
       "Name: Price_Range, dtype: int64"
      ]
     },
     "execution_count": 37,
     "metadata": {},
     "output_type": "execute_result"
    }
   ],
   "source": [
    "df['Price_Range'].value_counts()"
   ]
  },
  {
   "cell_type": "code",
   "execution_count": 38,
   "metadata": {},
   "outputs": [],
   "source": [
    "#функция возвращает 1 для низких цен, 2 для средних цен и 3 для высоких цен. Для пустых значений 0.\n",
    "def change_PR_symbol(sym):\n",
    "    if sym == '$':\n",
    "        return 1\n",
    "    elif sym == '$$ - $$$':\n",
    "        return 2\n",
    "    elif sym == '$$$$':\n",
    "        return 3\n",
    "    #экспеременатльно выяснил, что лучше пропуски заполнять нулями\n",
    "    return 0\n",
    "\n",
    "# сохраняю переменную с пропусками\n",
    "df['Price_Range_NaN'] = pd.isna(df['Price_Range'])\n",
    "# конвертирую строковые значения в числовые.\n",
    "df['Price_Range'] = df['Price_Range'].apply(lambda x: change_PR_symbol(x))"
   ]
  },
  {
   "cell_type": "markdown",
   "metadata": {},
   "source": [
    "### 6. Reviews"
   ]
  },
  {
   "cell_type": "code",
   "execution_count": 39,
   "metadata": {},
   "outputs": [],
   "source": [
    "#заполняю пропуски\n",
    "df['Reviews'] = df['Reviews'].fillna('[[], []]')\n",
    "#сохраняю пустые значения\n",
    "df['Reviews_empty'] = df['Reviews'].apply(lambda x: 0 if (x == '[[], []]') else 1)\n"
   ]
  },
  {
   "cell_type": "markdown",
   "metadata": {},
   "source": [
    "### 7. Number_of_Reviews"
   ]
  },
  {
   "cell_type": "code",
   "execution_count": 40,
   "metadata": {},
   "outputs": [],
   "source": [
    "#сохраняю пропуски в переменной Number_of_Reviews\n",
    "df['Number_of_Reviews_NAN'] = df['Number_of_Reviews'].isna()\n",
    "\n",
    "#нахожу среднее значение\n",
    "mean_number_of_rev = round(df.Number_of_Reviews.mean())\n",
    "\n",
    "#если у ресторана нет отзывов в колонке Reviews и Number_of_Reviews = NaN, то заоплняю нулем\n",
    "df['Number_of_Reviews'] = df[df.Reviews_empty == 0].Number_of_Reviews.fillna(0)\n",
    "#в остальных случаях заполняю средним значением\n",
    "df['Number_of_Reviews'] = df['Number_of_Reviews'].fillna(mean_number_of_rev)\n"
   ]
  },
  {
   "cell_type": "markdown",
   "metadata": {},
   "source": [
    "> ### 8. ID_TA"
   ]
  },
  {
   "cell_type": "code",
   "execution_count": 41,
   "metadata": {},
   "outputs": [],
   "source": [
    "#пытаюсь получить переменную из айди\n",
    "df['ID_TA_code'] = df['ID_TA'].apply(lambda x: float(x[1:]))"
   ]
  },
  {
   "cell_type": "markdown",
   "metadata": {},
   "source": [
    "> ### 9. URL_TA"
   ]
  },
  {
   "cell_type": "code",
   "execution_count": 42,
   "metadata": {},
   "outputs": [],
   "source": [
    "#пытаюсь вычленить переменную из URL\n",
    "df['URL_TA_code'] = df['URL_TA'].str.split('-').apply(lambda x: x[1][1:]).astype('float64')"
   ]
  },
  {
   "cell_type": "markdown",
   "metadata": {},
   "source": [
    "Удаление не числовых столбцов"
   ]
  },
  {
   "cell_type": "code",
   "execution_count": 43,
   "metadata": {},
   "outputs": [
    {
     "name": "stdout",
     "output_type": "stream",
     "text": [
      "<class 'pandas.core.frame.DataFrame'>\n",
      "RangeIndex: 50000 entries, 0 to 49999\n",
      "Columns: 184 entries, Restaurant_id to URL_TA_code\n",
      "dtypes: bool(3), float64(137), int32(32), int64(7), object(5)\n",
      "memory usage: 63.1+ MB\n"
     ]
    }
   ],
   "source": [
    "df.info()"
   ]
  },
  {
   "cell_type": "code",
   "execution_count": 44,
   "metadata": {},
   "outputs": [
    {
     "ename": "NameError",
     "evalue": "name 'feat_importances' is not defined",
     "output_type": "error",
     "traceback": [
      "\u001b[1;31m---------------------------------------------------------------------------\u001b[0m",
      "\u001b[1;31mNameError\u001b[0m                                 Traceback (most recent call last)",
      "\u001b[1;32m<ipython-input-44-cc259236eee3>\u001b[0m in \u001b[0;36m<module>\u001b[1;34m\u001b[0m\n\u001b[1;32m----> 1\u001b[1;33m \u001b[0mlist_temp\u001b[0m \u001b[1;33m=\u001b[0m \u001b[0mlist\u001b[0m\u001b[1;33m(\u001b[0m\u001b[0mfeat_importances\u001b[0m\u001b[1;33m.\u001b[0m\u001b[0mnlargest\u001b[0m\u001b[1;33m(\u001b[0m\u001b[1;36m15\u001b[0m\u001b[1;33m)\u001b[0m\u001b[1;33m.\u001b[0m\u001b[0mindex\u001b[0m\u001b[1;33m[\u001b[0m\u001b[1;33m[\u001b[0m\u001b[1;36m0\u001b[0m\u001b[1;33m,\u001b[0m\u001b[1;36m1\u001b[0m\u001b[1;33m,\u001b[0m\u001b[1;36m6\u001b[0m\u001b[1;33m,\u001b[0m\u001b[1;36m10\u001b[0m\u001b[1;33m]\u001b[0m\u001b[1;33m]\u001b[0m\u001b[1;33m)\u001b[0m\u001b[1;33m\u001b[0m\u001b[1;33m\u001b[0m\u001b[0m\n\u001b[0m\u001b[0;32m      2\u001b[0m \u001b[0mdf_temp\u001b[0m\u001b[1;33m[\u001b[0m\u001b[0mlist_temp\u001b[0m\u001b[1;33m]\u001b[0m\u001b[1;33m.\u001b[0m\u001b[0mcorr\u001b[0m\u001b[1;33m(\u001b[0m\u001b[1;33m)\u001b[0m\u001b[1;33m\u001b[0m\u001b[1;33m\u001b[0m\u001b[0m\n",
      "\u001b[1;31mNameError\u001b[0m: name 'feat_importances' is not defined"
     ]
    }
   ],
   "source": [
    "list_temp = list(feat_importances.nlargest(15).index[[0,1,6,10]])\n",
    "df_temp[list_temp].corr()"
   ]
  },
  {
   "cell_type": "code",
   "execution_count": 45,
   "metadata": {},
   "outputs": [],
   "source": [
    "df.drop(['City', 'Cuisine_Style', 'Price_Range', 'Reviews', 'URL_TA', 'ID_TA','Ranking_City_mean', 'city_population', 'Restaurant_id'], axis=1, inplace=True, errors='ignore')"
   ]
  },
  {
   "cell_type": "code",
   "execution_count": 46,
   "metadata": {},
   "outputs": [],
   "source": [
    "# функция для стандартизации\n",
    "def StandardScaler_column(d_col):\n",
    "    scaler = StandardScaler()\n",
    "    scaler.fit(df[[d_col]])\n",
    "    return scaler.transform(df[[d_col]])\n",
    "# стандартизируем все столбцы кроме целевой и Sample\n",
    "for i  in list(df.columns):\n",
    "    if i not in ['Rating','sample']:\n",
    "        df[i] = StandardScaler_column(i)\n",
    "        if len(df[df[i].isna()]) < len(df):\n",
    "            df[i] = df[i].fillna(0)"
   ]
  },
  {
   "cell_type": "code",
   "execution_count": 47,
   "metadata": {},
   "outputs": [
    {
     "name": "stdout",
     "output_type": "stream",
     "text": [
      "<class 'pandas.core.frame.DataFrame'>\n",
      "RangeIndex: 50000 entries, 0 to 49999\n",
      "Columns: 175 entries, Ranking to URL_TA_code\n",
      "dtypes: float64(174), int64(1)\n",
      "memory usage: 66.8 MB\n"
     ]
    }
   ],
   "source": [
    "df.info()"
   ]
  },
  {
   "cell_type": "markdown",
   "metadata": {},
   "source": [
    "Разбиваем датасет на тренировочный и тестовый"
   ]
  },
  {
   "cell_type": "code",
   "execution_count": 48,
   "metadata": {},
   "outputs": [],
   "source": [
    "train_data = df.query('sample == 1').drop(['sample'], axis=1)\n",
    "test_data = df.query('sample == 0').drop(['sample'], axis=1)\n",
    "\n",
    "y = train_data.Rating.values            # наш таргет\n",
    "X = train_data.drop(['Rating'], axis=1)"
   ]
  },
  {
   "cell_type": "markdown",
   "metadata": {},
   "source": [
    "**Перед тем как отправлять наши данные на обучение, разделим данные на еще один тест и трейн, для валидации. \n",
    "Это поможет нам проверить, как хорошо наша модель работает, до отправки submissiona на kaggle.**"
   ]
  },
  {
   "cell_type": "code",
   "execution_count": 49,
   "metadata": {},
   "outputs": [],
   "source": [
    "# Воспользуемся специальной функцие train_test_split для разбивки тестовых данных\n",
    "# выделим 20% данных на валидацию (параметр test_size)\n",
    "X_train, X_test, y_train, y_test = train_test_split(X, y, test_size=0.2, random_state=RANDOM_SEED)"
   ]
  },
  {
   "cell_type": "code",
   "execution_count": 50,
   "metadata": {},
   "outputs": [
    {
     "data": {
      "text/plain": [
       "((10000, 174), (40000, 174), (40000, 173), (32000, 173), (8000, 173))"
      ]
     },
     "execution_count": 50,
     "metadata": {},
     "output_type": "execute_result"
    }
   ],
   "source": [
    "# проверяем\n",
    "test_data.shape, train_data.shape, X.shape, X_train.shape, X_test.shape"
   ]
  },
  {
   "cell_type": "markdown",
   "metadata": {},
   "source": [
    "# Model \n",
    "Сам ML"
   ]
  },
  {
   "cell_type": "code",
   "execution_count": 51,
   "metadata": {},
   "outputs": [],
   "source": [
    "# Импортируем необходимые библиотеки:\n",
    "from sklearn.ensemble import RandomForestRegressor # инструмент для создания и обучения модели\n",
    "from sklearn import metrics # инструменты для оценки точности модели"
   ]
  },
  {
   "cell_type": "code",
   "execution_count": 52,
   "metadata": {},
   "outputs": [],
   "source": [
    "# Создаём модель (НАСТРОЙКИ НЕ ТРОГАЕМ)\n",
    "model = RandomForestRegressor(n_estimators=100, verbose=1, n_jobs=-1, random_state=RANDOM_SEED)"
   ]
  },
  {
   "cell_type": "code",
   "execution_count": 53,
   "metadata": {},
   "outputs": [
    {
     "name": "stderr",
     "output_type": "stream",
     "text": [
      "[Parallel(n_jobs=-1)]: Using backend ThreadingBackend with 8 concurrent workers.\n",
      "[Parallel(n_jobs=-1)]: Done  34 tasks      | elapsed:    9.1s\n",
      "[Parallel(n_jobs=-1)]: Done 100 out of 100 | elapsed:   27.3s finished\n",
      "[Parallel(n_jobs=8)]: Using backend ThreadingBackend with 8 concurrent workers.\n",
      "[Parallel(n_jobs=8)]: Done  34 tasks      | elapsed:    0.0s\n",
      "[Parallel(n_jobs=8)]: Done 100 out of 100 | elapsed:    0.0s finished\n"
     ]
    }
   ],
   "source": [
    "# Обучаем модель на тестовом наборе данных\n",
    "model.fit(X_train, y_train)\n",
    "\n",
    "# Используем обученную модель для предсказания рейтинга ресторанов в тестовой выборке.\n",
    "# Предсказанные значения записываем в переменную y_pred\n",
    "y_pred = model.predict(X_test)"
   ]
  },
  {
   "cell_type": "code",
   "execution_count": 55,
   "metadata": {},
   "outputs": [
    {
     "name": "stdout",
     "output_type": "stream",
     "text": [
      "MAE: 0.25729250000000004\n"
     ]
    }
   ],
   "source": [
    "# Сравниваем предсказанные значения (y_pred) с реальными (y_test), и смотрим насколько они в среднем отличаются\n",
    "# Метрика называется Mean Absolute Error (MAE) и показывает среднее отклонение предсказанных значений от фактических.\n",
    "print('MAE:', metrics.mean_absolute_error(y_test, y_pred))"
   ]
  },
  {
   "cell_type": "code",
   "execution_count": 56,
   "metadata": {},
   "outputs": [
    {
     "data": {
      "text/plain": [
       "<matplotlib.axes._subplots.AxesSubplot at 0x1c57f1355c8>"
      ]
     },
     "execution_count": 56,
     "metadata": {},
     "output_type": "execute_result"
    },
    {
     "data": {
      "image/png": "[encoded data removed]",
      "text/plain": [
       "<Figure size 720x720 with 1 Axes>"
      ]
     },
     "metadata": {
      "needs_background": "light"
     },
     "output_type": "display_data"
    }
   ],
   "source": [
    "# в RandomForestRegressor есть возможность вывести самые важные признаки для модели\n",
    "plt.rcParams['figure.figsize'] = (10,10)\n",
    "feat_importances = pd.Series(model.feature_importances_, index=X.columns)\n",
    "feat_importances.nlargest(50).plot(kind='barh')"
   ]
  },
  {
   "cell_type": "code",
   "execution_count": 57,
   "metadata": {},
   "outputs": [
    {
     "data": {
      "text/plain": [
       "(15.5, -0.5)"
      ]
     },
     "execution_count": 57,
     "metadata": {},
     "output_type": "execute_result"
    },
    {
     "data": {
      "image/png": "[encoded data removed]",
      "text/plain": [
       "<Figure size 864x432 with 2 Axes>"
      ]
     },
     "metadata": {
      "needs_background": "light"
     },
     "output_type": "display_data"
    }
   ],
   "source": [
    "df_temp = df.loc[df['sample'] == 1, list(feat_importances.nlargest(15).index[0:15])]\n",
    "plt.rcParams['figure.figsize'] = (12,6)\n",
    "ax = sns.heatmap(df_temp.corr(), annot=True, fmt='.2g')\n",
    "i, k = ax.get_ylim()\n",
    "ax.set_ylim(i+0.5, k-0.5)"
   ]
  },
  {
   "cell_type": "markdown",
   "metadata": {},
   "source": [
    "# Submission\n",
    "Если все устраевает - готовим Submission на кагл"
   ]
  },
  {
   "cell_type": "code",
   "execution_count": 58,
   "metadata": {},
   "outputs": [
    {
     "data": {
      "text/html": [
       "<div>\n",
       "<style scoped>\n",
       "    .dataframe tbody tr th:only-of-type {\n",
       "        vertical-align: middle;\n",
       "    }\n",
       "\n",
       "    .dataframe tbody tr th {\n",
       "        vertical-align: top;\n",
       "    }\n",
       "\n",
       "    .dataframe thead th {\n",
       "        text-align: right;\n",
       "    }\n",
       "</style>\n",
       "<table border=\"1\" class=\"dataframe\">\n",
       "  <thead>\n",
       "    <tr style=\"text-align: right;\">\n",
       "      <th></th>\n",
       "      <th>Ranking</th>\n",
       "      <th>Number_of_Reviews</th>\n",
       "      <th>Rating</th>\n",
       "      <th>Amsterdam</th>\n",
       "      <th>Athens</th>\n",
       "      <th>Barcelona</th>\n",
       "      <th>Berlin</th>\n",
       "      <th>Bratislava</th>\n",
       "      <th>Brussels</th>\n",
       "      <th>Budapest</th>\n",
       "      <th>...</th>\n",
       "      <th>count_Cuisine_Style</th>\n",
       "      <th>Restorant_City_number</th>\n",
       "      <th>Ranking_City_norm</th>\n",
       "      <th>Ranking_CityPopulation_norm</th>\n",
       "      <th>norm_Population_on_Rest</th>\n",
       "      <th>Price_Range_NaN</th>\n",
       "      <th>Reviews_empty</th>\n",
       "      <th>Number_of_Reviews_NAN</th>\n",
       "      <th>ID_TA_code</th>\n",
       "      <th>URL_TA_code</th>\n",
       "    </tr>\n",
       "  </thead>\n",
       "  <tbody>\n",
       "    <tr>\n",
       "      <th>2880</th>\n",
       "      <td>1.416620</td>\n",
       "      <td>0.430968</td>\n",
       "      <td>0.0</td>\n",
       "      <td>-0.167971</td>\n",
       "      <td>-0.125557</td>\n",
       "      <td>-0.26990</td>\n",
       "      <td>-0.239153</td>\n",
       "      <td>-0.087511</td>\n",
       "      <td>-0.164284</td>\n",
       "      <td>-0.14438</td>\n",
       "      <td>...</td>\n",
       "      <td>0.205415</td>\n",
       "      <td>1.253945</td>\n",
       "      <td>0.482568</td>\n",
       "      <td>0.656913</td>\n",
       "      <td>-1.042799</td>\n",
       "      <td>-0.729321</td>\n",
       "      <td>0.440132</td>\n",
       "      <td>-0.261488</td>\n",
       "      <td>-0.944629</td>\n",
       "      <td>-0.152399</td>\n",
       "    </tr>\n",
       "    <tr>\n",
       "      <th>9816</th>\n",
       "      <td>0.255286</td>\n",
       "      <td>0.430968</td>\n",
       "      <td>0.0</td>\n",
       "      <td>-0.167971</td>\n",
       "      <td>-0.125557</td>\n",
       "      <td>-0.26990</td>\n",
       "      <td>4.181422</td>\n",
       "      <td>-0.087511</td>\n",
       "      <td>-0.164284</td>\n",
       "      <td>-0.14438</td>\n",
       "      <td>...</td>\n",
       "      <td>-0.891069</td>\n",
       "      <td>-0.211750</td>\n",
       "      <td>0.749675</td>\n",
       "      <td>0.165891</td>\n",
       "      <td>2.511644</td>\n",
       "      <td>1.371138</td>\n",
       "      <td>0.440132</td>\n",
       "      <td>-0.261488</td>\n",
       "      <td>-0.528926</td>\n",
       "      <td>-0.151142</td>\n",
       "    </tr>\n",
       "    <tr>\n",
       "      <th>7182</th>\n",
       "      <td>-0.953074</td>\n",
       "      <td>0.430968</td>\n",
       "      <td>0.0</td>\n",
       "      <td>-0.167971</td>\n",
       "      <td>-0.125557</td>\n",
       "      <td>-0.26990</td>\n",
       "      <td>-0.239153</td>\n",
       "      <td>-0.087511</td>\n",
       "      <td>-0.164284</td>\n",
       "      <td>-0.14438</td>\n",
       "      <td>...</td>\n",
       "      <td>3.494870</td>\n",
       "      <td>-0.261712</td>\n",
       "      <td>-1.639189</td>\n",
       "      <td>-0.726495</td>\n",
       "      <td>0.386399</td>\n",
       "      <td>-0.729321</td>\n",
       "      <td>0.440132</td>\n",
       "      <td>-0.261488</td>\n",
       "      <td>-1.395746</td>\n",
       "      <td>-0.147800</td>\n",
       "    </tr>\n",
       "    <tr>\n",
       "      <th>515</th>\n",
       "      <td>-0.954966</td>\n",
       "      <td>0.430968</td>\n",
       "      <td>0.0</td>\n",
       "      <td>-0.167971</td>\n",
       "      <td>-0.125557</td>\n",
       "      <td>-0.26990</td>\n",
       "      <td>-0.239153</td>\n",
       "      <td>-0.087511</td>\n",
       "      <td>6.087015</td>\n",
       "      <td>-0.14438</td>\n",
       "      <td>...</td>\n",
       "      <td>1.850143</td>\n",
       "      <td>-0.810864</td>\n",
       "      <td>-1.608633</td>\n",
       "      <td>-5.805708</td>\n",
       "      <td>-1.472508</td>\n",
       "      <td>-0.729321</td>\n",
       "      <td>0.440132</td>\n",
       "      <td>-0.261488</td>\n",
       "      <td>1.054110</td>\n",
       "      <td>-0.141710</td>\n",
       "    </tr>\n",
       "    <tr>\n",
       "      <th>6084</th>\n",
       "      <td>2.685790</td>\n",
       "      <td>-2.332081</td>\n",
       "      <td>0.0</td>\n",
       "      <td>-0.167971</td>\n",
       "      <td>-0.125557</td>\n",
       "      <td>-0.26990</td>\n",
       "      <td>-0.239153</td>\n",
       "      <td>-0.087511</td>\n",
       "      <td>-0.164284</td>\n",
       "      <td>-0.14438</td>\n",
       "      <td>...</td>\n",
       "      <td>-0.891069</td>\n",
       "      <td>1.253945</td>\n",
       "      <td>1.634388</td>\n",
       "      <td>2.224870</td>\n",
       "      <td>-1.042799</td>\n",
       "      <td>1.371138</td>\n",
       "      <td>-2.272045</td>\n",
       "      <td>-0.261488</td>\n",
       "      <td>0.618091</td>\n",
       "      <td>-0.152399</td>\n",
       "    </tr>\n",
       "    <tr>\n",
       "      <th>5384</th>\n",
       "      <td>-0.514702</td>\n",
       "      <td>0.430968</td>\n",
       "      <td>0.0</td>\n",
       "      <td>-0.167971</td>\n",
       "      <td>-0.125557</td>\n",
       "      <td>-0.26990</td>\n",
       "      <td>-0.239153</td>\n",
       "      <td>-0.087511</td>\n",
       "      <td>-0.164284</td>\n",
       "      <td>-0.14438</td>\n",
       "      <td>...</td>\n",
       "      <td>1.850143</td>\n",
       "      <td>-0.261712</td>\n",
       "      <td>-0.700603</td>\n",
       "      <td>-0.310510</td>\n",
       "      <td>0.386399</td>\n",
       "      <td>-0.729321</td>\n",
       "      <td>0.440132</td>\n",
       "      <td>-0.261488</td>\n",
       "      <td>-0.933307</td>\n",
       "      <td>-0.147800</td>\n",
       "    </tr>\n",
       "    <tr>\n",
       "      <th>3225</th>\n",
       "      <td>1.337432</td>\n",
       "      <td>0.430968</td>\n",
       "      <td>0.0</td>\n",
       "      <td>-0.167971</td>\n",
       "      <td>-0.125557</td>\n",
       "      <td>-0.26990</td>\n",
       "      <td>-0.239153</td>\n",
       "      <td>-0.087511</td>\n",
       "      <td>-0.164284</td>\n",
       "      <td>-0.14438</td>\n",
       "      <td>...</td>\n",
       "      <td>-0.891069</td>\n",
       "      <td>1.253945</td>\n",
       "      <td>0.410702</td>\n",
       "      <td>0.559083</td>\n",
       "      <td>-1.042799</td>\n",
       "      <td>-0.729321</td>\n",
       "      <td>0.440132</td>\n",
       "      <td>-0.261488</td>\n",
       "      <td>1.627764</td>\n",
       "      <td>-0.152399</td>\n",
       "    </tr>\n",
       "    <tr>\n",
       "      <th>63</th>\n",
       "      <td>0.287988</td>\n",
       "      <td>0.430968</td>\n",
       "      <td>0.0</td>\n",
       "      <td>-0.167971</td>\n",
       "      <td>-0.125557</td>\n",
       "      <td>3.70507</td>\n",
       "      <td>-0.239153</td>\n",
       "      <td>-0.087511</td>\n",
       "      <td>-0.164284</td>\n",
       "      <td>-0.14438</td>\n",
       "      <td>...</td>\n",
       "      <td>-0.891069</td>\n",
       "      <td>0.085437</td>\n",
       "      <td>0.375344</td>\n",
       "      <td>0.386732</td>\n",
       "      <td>-0.821188</td>\n",
       "      <td>1.371138</td>\n",
       "      <td>0.440132</td>\n",
       "      <td>-0.261488</td>\n",
       "      <td>-0.130928</td>\n",
       "      <td>-0.149900</td>\n",
       "    </tr>\n",
       "    <tr>\n",
       "      <th>8682</th>\n",
       "      <td>-0.813887</td>\n",
       "      <td>0.430968</td>\n",
       "      <td>0.0</td>\n",
       "      <td>-0.167971</td>\n",
       "      <td>-0.125557</td>\n",
       "      <td>-0.26990</td>\n",
       "      <td>-0.239153</td>\n",
       "      <td>-0.087511</td>\n",
       "      <td>-0.164284</td>\n",
       "      <td>-0.14438</td>\n",
       "      <td>...</td>\n",
       "      <td>-0.891069</td>\n",
       "      <td>-0.865994</td>\n",
       "      <td>-0.912545</td>\n",
       "      <td>-0.289029</td>\n",
       "      <td>1.232613</td>\n",
       "      <td>1.371138</td>\n",
       "      <td>0.440132</td>\n",
       "      <td>-0.261488</td>\n",
       "      <td>1.007168</td>\n",
       "      <td>-0.151085</td>\n",
       "    </tr>\n",
       "    <tr>\n",
       "      <th>4471</th>\n",
       "      <td>1.501213</td>\n",
       "      <td>0.430968</td>\n",
       "      <td>0.0</td>\n",
       "      <td>-0.167971</td>\n",
       "      <td>-0.125557</td>\n",
       "      <td>-0.26990</td>\n",
       "      <td>-0.239153</td>\n",
       "      <td>-0.087511</td>\n",
       "      <td>-0.164284</td>\n",
       "      <td>-0.14438</td>\n",
       "      <td>...</td>\n",
       "      <td>-0.891069</td>\n",
       "      <td>1.721263</td>\n",
       "      <td>0.218546</td>\n",
       "      <td>0.086762</td>\n",
       "      <td>0.633056</td>\n",
       "      <td>1.371138</td>\n",
       "      <td>0.440132</td>\n",
       "      <td>3.824265</td>\n",
       "      <td>0.948549</td>\n",
       "      <td>-0.158175</td>\n",
       "    </tr>\n",
       "  </tbody>\n",
       "</table>\n",
       "<p>10 rows × 174 columns</p>\n",
       "</div>"
      ],
      "text/plain": [
       "       Ranking  Number_of_Reviews  Rating  Amsterdam    Athens  Barcelona  \\\n",
       "2880  1.416620           0.430968     0.0  -0.167971 -0.125557   -0.26990   \n",
       "9816  0.255286           0.430968     0.0  -0.167971 -0.125557   -0.26990   \n",
       "7182 -0.953074           0.430968     0.0  -0.167971 -0.125557   -0.26990   \n",
       "515  -0.954966           0.430968     0.0  -0.167971 -0.125557   -0.26990   \n",
       "6084  2.685790          -2.332081     0.0  -0.167971 -0.125557   -0.26990   \n",
       "5384 -0.514702           0.430968     0.0  -0.167971 -0.125557   -0.26990   \n",
       "3225  1.337432           0.430968     0.0  -0.167971 -0.125557   -0.26990   \n",
       "63    0.287988           0.430968     0.0  -0.167971 -0.125557    3.70507   \n",
       "8682 -0.813887           0.430968     0.0  -0.167971 -0.125557   -0.26990   \n",
       "4471  1.501213           0.430968     0.0  -0.167971 -0.125557   -0.26990   \n",
       "\n",
       "        Berlin  Bratislava  Brussels  Budapest  ...  count_Cuisine_Style  \\\n",
       "2880 -0.239153   -0.087511 -0.164284  -0.14438  ...             0.205415   \n",
       "9816  4.181422   -0.087511 -0.164284  -0.14438  ...            -0.891069   \n",
       "7182 -0.239153   -0.087511 -0.164284  -0.14438  ...             3.494870   \n",
       "515  -0.239153   -0.087511  6.087015  -0.14438  ...             1.850143   \n",
       "6084 -0.239153   -0.087511 -0.164284  -0.14438  ...            -0.891069   \n",
       "5384 -0.239153   -0.087511 -0.164284  -0.14438  ...             1.850143   \n",
       "3225 -0.239153   -0.087511 -0.164284  -0.14438  ...            -0.891069   \n",
       "63   -0.239153   -0.087511 -0.164284  -0.14438  ...            -0.891069   \n",
       "8682 -0.239153   -0.087511 -0.164284  -0.14438  ...            -0.891069   \n",
       "4471 -0.239153   -0.087511 -0.164284  -0.14438  ...            -0.891069   \n",
       "\n",
       "      Restorant_City_number  Ranking_City_norm  Ranking_CityPopulation_norm  \\\n",
       "2880               1.253945           0.482568                     0.656913   \n",
       "9816              -0.211750           0.749675                     0.165891   \n",
       "7182              -0.261712          -1.639189                    -0.726495   \n",
       "515               -0.810864          -1.608633                    -5.805708   \n",
       "6084               1.253945           1.634388                     2.224870   \n",
       "5384              -0.261712          -0.700603                    -0.310510   \n",
       "3225               1.253945           0.410702                     0.559083   \n",
       "63                 0.085437           0.375344                     0.386732   \n",
       "8682              -0.865994          -0.912545                    -0.289029   \n",
       "4471               1.721263           0.218546                     0.086762   \n",
       "\n",
       "      norm_Population_on_Rest  Price_Range_NaN  Reviews_empty  \\\n",
       "2880                -1.042799        -0.729321       0.440132   \n",
       "9816                 2.511644         1.371138       0.440132   \n",
       "7182                 0.386399        -0.729321       0.440132   \n",
       "515                 -1.472508        -0.729321       0.440132   \n",
       "6084                -1.042799         1.371138      -2.272045   \n",
       "5384                 0.386399        -0.729321       0.440132   \n",
       "3225                -1.042799        -0.729321       0.440132   \n",
       "63                  -0.821188         1.371138       0.440132   \n",
       "8682                 1.232613         1.371138       0.440132   \n",
       "4471                 0.633056         1.371138       0.440132   \n",
       "\n",
       "      Number_of_Reviews_NAN  ID_TA_code  URL_TA_code  \n",
       "2880              -0.261488   -0.944629    -0.152399  \n",
       "9816              -0.261488   -0.528926    -0.151142  \n",
       "7182              -0.261488   -1.395746    -0.147800  \n",
       "515               -0.261488    1.054110    -0.141710  \n",
       "6084              -0.261488    0.618091    -0.152399  \n",
       "5384              -0.261488   -0.933307    -0.147800  \n",
       "3225              -0.261488    1.627764    -0.152399  \n",
       "63                -0.261488   -0.130928    -0.149900  \n",
       "8682              -0.261488    1.007168    -0.151085  \n",
       "4471               3.824265    0.948549    -0.158175  \n",
       "\n",
       "[10 rows x 174 columns]"
      ]
     },
     "execution_count": 58,
     "metadata": {},
     "output_type": "execute_result"
    }
   ],
   "source": [
    "test_data.sample(10)"
   ]
  },
  {
   "cell_type": "code",
   "execution_count": 59,
   "metadata": {},
   "outputs": [],
   "source": [
    "test_data = test_data.drop(['Rating'], axis=1)"
   ]
  },
  {
   "cell_type": "code",
   "execution_count": 61,
   "metadata": {},
   "outputs": [
    {
     "name": "stderr",
     "output_type": "stream",
     "text": [
      "[Parallel(n_jobs=8)]: Using backend ThreadingBackend with 8 concurrent workers.\n",
      "[Parallel(n_jobs=8)]: Done  34 tasks      | elapsed:    0.0s\n",
      "[Parallel(n_jobs=8)]: Done 100 out of 100 | elapsed:    0.0s finished\n"
     ]
    }
   ],
   "source": [
    "predict_submission = model.predict(test_data)"
   ]
  },
  {
   "cell_type": "code",
   "execution_count": 62,
   "metadata": {},
   "outputs": [
    {
     "data": {
      "text/plain": [
       "array([3.01 , 4.23 , 4.625, ..., 3.04 , 4.48 , 4.51 ])"
      ]
     },
     "execution_count": 62,
     "metadata": {},
     "output_type": "execute_result"
    }
   ],
   "source": [
    "predict_submission"
   ]
  },
  {
   "cell_type": "code",
   "execution_count": 68,
   "metadata": {},
   "outputs": [
    {
     "data": {
      "text/html": [
       "<div>\n",
       "<style scoped>\n",
       "    .dataframe tbody tr th:only-of-type {\n",
       "        vertical-align: middle;\n",
       "    }\n",
       "\n",
       "    .dataframe tbody tr th {\n",
       "        vertical-align: top;\n",
       "    }\n",
       "\n",
       "    .dataframe thead th {\n",
       "        text-align: right;\n",
       "    }\n",
       "</style>\n",
       "<table border=\"1\" class=\"dataframe\">\n",
       "  <thead>\n",
       "    <tr style=\"text-align: right;\">\n",
       "      <th></th>\n",
       "      <th>Restaurant_id</th>\n",
       "      <th>Rating</th>\n",
       "    </tr>\n",
       "  </thead>\n",
       "  <tbody>\n",
       "    <tr>\n",
       "      <th>0</th>\n",
       "      <td>id_0</td>\n",
       "      <td>3.010</td>\n",
       "    </tr>\n",
       "    <tr>\n",
       "      <th>1</th>\n",
       "      <td>id_1</td>\n",
       "      <td>4.230</td>\n",
       "    </tr>\n",
       "    <tr>\n",
       "      <th>2</th>\n",
       "      <td>id_2</td>\n",
       "      <td>4.625</td>\n",
       "    </tr>\n",
       "    <tr>\n",
       "      <th>3</th>\n",
       "      <td>id_3</td>\n",
       "      <td>4.120</td>\n",
       "    </tr>\n",
       "    <tr>\n",
       "      <th>4</th>\n",
       "      <td>id_4</td>\n",
       "      <td>4.365</td>\n",
       "    </tr>\n",
       "    <tr>\n",
       "      <th>5</th>\n",
       "      <td>id_5</td>\n",
       "      <td>4.100</td>\n",
       "    </tr>\n",
       "    <tr>\n",
       "      <th>6</th>\n",
       "      <td>id_6</td>\n",
       "      <td>1.590</td>\n",
       "    </tr>\n",
       "    <tr>\n",
       "      <th>7</th>\n",
       "      <td>id_7</td>\n",
       "      <td>2.525</td>\n",
       "    </tr>\n",
       "    <tr>\n",
       "      <th>8</th>\n",
       "      <td>id_8</td>\n",
       "      <td>4.015</td>\n",
       "    </tr>\n",
       "    <tr>\n",
       "      <th>9</th>\n",
       "      <td>id_9</td>\n",
       "      <td>4.555</td>\n",
       "    </tr>\n",
       "  </tbody>\n",
       "</table>\n",
       "</div>"
      ],
      "text/plain": [
       "  Restaurant_id  Rating\n",
       "0          id_0   3.010\n",
       "1          id_1   4.230\n",
       "2          id_2   4.625\n",
       "3          id_3   4.120\n",
       "4          id_4   4.365\n",
       "5          id_5   4.100\n",
       "6          id_6   1.590\n",
       "7          id_7   2.525\n",
       "8          id_8   4.015\n",
       "9          id_9   4.555"
      ]
     },
     "execution_count": 68,
     "metadata": {},
     "output_type": "execute_result"
    }
   ],
   "source": [
    "sample_submission['Rating'] = predict_submission\n",
    "sample_submission.to_csv('submission.csv', index=False)\n",
    "sample_submission.head(10)"
   ]
  },
  {
   "cell_type": "code",
   "execution_count": null,
   "metadata": {},
   "outputs": [],
   "source": []
  }
 ],
 "metadata": {
  "kernelspec": {
   "display_name": "Python 3",
   "language": "python",
   "name": "python3"
  },
  "language_info": {
   "codemirror_mode": {
    "name": "ipython",
    "version": 3
   },
   "file_extension": ".py",
   "mimetype": "text/x-python",
   "name": "python",
   "nbconvert_exporter": "python",
   "pygments_lexer": "ipython3",
   "version": "3.7.6"
  }
 },
 "nbformat": 4,
 "nbformat_minor": 4
}
